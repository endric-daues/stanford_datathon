{
 "metadata": {
  "language_info": {
   "codemirror_mode": {
    "name": "ipython",
    "version": 3
   },
   "file_extension": ".py",
   "mimetype": "text/x-python",
   "name": "python",
   "nbconvert_exporter": "python",
   "pygments_lexer": "ipython3",
   "version": "3.7.1-final"
  },
  "orig_nbformat": 2,
  "kernelspec": {
   "name": "Python 3.7.1 64-bit ('base': conda)",
   "display_name": "Python 3.7.1 64-bit ('base': conda)",
   "metadata": {
    "interpreter": {
     "hash": "ebdcd52c698f4ed2239cdcc0424ba979bbe1ca6d6244d1a2fef1489de85f4b67"
    }
   }
  }
 },
 "nbformat": 4,
 "nbformat_minor": 2,
 "cells": [
  {
   "cell_type": "code",
   "execution_count": 1,
   "metadata": {},
   "outputs": [],
   "source": [
    "import pandas as pd \n",
    "import numpy as np \n",
    "from sklearn import linear_model\n",
    "from sklearn.metrics import mean_squared_error,r2_score\n",
    "from sklearn.model_selection import train_test_split\n",
    "from sklearn.preprocessing import StandardScaler\n",
    "import matplotlib.pyplot as plt"
   ]
  },
  {
   "source": [
    "## RANDOM FORREST REGRESSOR\n",
    "### Predicts next week´s change in cases by county given various mobility and socio-economic data points"
   ],
   "cell_type": "markdown",
   "metadata": {}
  },
  {
   "source": [
    "### Read the NYT Data for Infections"
   ],
   "cell_type": "markdown",
   "metadata": {}
  },
  {
   "cell_type": "code",
   "execution_count": 2,
   "metadata": {},
   "outputs": [],
   "source": [
    "df_nyt = pd.read_csv('mortality_data/us-counties.csv')"
   ]
  },
  {
   "source": [
    "#### process the data for analysis"
   ],
   "cell_type": "markdown",
   "metadata": {}
  },
  {
   "cell_type": "code",
   "execution_count": 3,
   "metadata": {},
   "outputs": [],
   "source": [
    "weeks = np.array([27, 29, 34, 26, 31, 33, 23, 25, 32, 30, 24, 28, 35, 36, 37, 38])"
   ]
  },
  {
   "cell_type": "code",
   "execution_count": 4,
   "metadata": {},
   "outputs": [],
   "source": [
    "df_nyt.loc[:,'fips'] = df_nyt.fips.apply(lambda x: str(x)[:-2].zfill(5))\n",
    "\n",
    "df_nyt.loc[:,'state'] = df_nyt.fips.apply(lambda x: str(x)[:2])\n",
    "df_nyt.loc[:,'county'] = df_nyt.fips.apply(lambda x: str(x)[2:5])\n",
    "\n",
    "df_nyt.loc[:,'date'] = pd.to_datetime(df_nyt.date)\n",
    "df_nyt.loc[:,'week'] =df_nyt.date.apply(lambda x: x.isocalendar()[1])\n",
    "\n",
    "df_nyt.loc[:,'valid_week'] = df_nyt.week.apply(lambda x: x in weeks)\n",
    "df_nyt = df_nyt.loc[df_nyt.valid_week]"
   ]
  },
  {
   "source": [
    "#### group by counties and take the sum of cases"
   ],
   "cell_type": "markdown",
   "metadata": {}
  },
  {
   "cell_type": "code",
   "execution_count": 5,
   "metadata": {},
   "outputs": [],
   "source": [
    "labels = df_nyt[['week','state','county','cases']]\n",
    "labels = labels.groupby(['week','state','county'])['cases'].mean().reset_index()\n"
   ]
  },
  {
   "source": [
    "#### shift each week by 1 period to get the new cases in a given week, and shift again to find the change in new cases"
   ],
   "cell_type": "markdown",
   "metadata": {}
  },
  {
   "cell_type": "code",
   "execution_count": 6,
   "metadata": {},
   "outputs": [
    {
     "output_type": "execute_result",
     "data": {
      "text/plain": [
       "array(['00', '01', '02', '04', '05', '06', '08', '09', '10', '11', '12',\n",
       "       '13', '15', '16', '17', '18', '19', '20', '21', '22', '23', '24',\n",
       "       '25', '26', '27', '28', '29', '30', '31', '32', '33', '34', '35',\n",
       "       '36', '37', '38', '39', '40', '41', '42', '44', '45', '46', '47',\n",
       "       '48', '49', '50', '51', '53', '54', '55', '56', '72', '78', '69'],\n",
       "      dtype=object)"
      ]
     },
     "metadata": {},
     "execution_count": 6
    }
   ],
   "source": [
    "labels.state.unique()"
   ]
  },
  {
   "cell_type": "code",
   "execution_count": 7,
   "metadata": {
    "tags": []
   },
   "outputs": [
    {
     "output_type": "stream",
     "name": "stdout",
     "text": [
      "00\n",
      "01\n",
      "02\n",
      "04\n",
      "05\n",
      "06\n",
      "08\n",
      "09\n",
      "10\n",
      "11\n",
      "12\n",
      "13\n",
      "15\n",
      "16\n",
      "17\n",
      "18\n",
      "19\n",
      "20\n",
      "21\n",
      "22\n",
      "23\n",
      "24\n",
      "25\n",
      "26\n",
      "27\n",
      "28\n",
      "29\n",
      "30\n",
      "31\n",
      "32\n",
      "33\n",
      "34\n",
      "35\n",
      "36\n",
      "37\n",
      "38\n",
      "39\n",
      "40\n",
      "41\n",
      "42\n",
      "44\n",
      "45\n",
      "46\n",
      "47\n",
      "48\n",
      "49\n",
      "50\n",
      "51\n",
      "53\n",
      "54\n",
      "55\n",
      "56\n",
      "72\n",
      "78\n",
      "69\n"
     ]
    }
   ],
   "source": [
    "collection = []\n",
    "\n",
    "for state in labels.state.unique():\n",
    "    print(state)\n",
    "    sub1 = labels.loc[labels.state==state]\n",
    "    for county in sub1.county.unique():\n",
    "        sub2 = sub1.loc[sub1.county==county]\n",
    "\n",
    "        sub2 = sub2[['week','cases']]\n",
    "        sub2 = sub2.set_index('week')\n",
    "\n",
    "        \n",
    "        shifted = (sub2.cases-sub2.cases.shift(1)).dropna()\n",
    "        #shifted = (shifted-shifted.shift(1)).dropna()\n",
    "        shifted =shifted.reset_index()\n",
    "        \n",
    "      \n",
    "        shifted['county'] = [str(county) for i in range(len(shifted))]\n",
    "        shifted['state'] = [str(state) for i in range(len(shifted))]\n",
    "        \n",
    "\n",
    "        shifted=shifted.reset_index()[['week','state','county','cases']]\n",
    "        \n",
    "        \n",
    "        collection.append(pd.DataFrame(shifted))\n",
    "\n",
    "        \n",
    "labels = pd.concat(collection).reset_index()"
   ]
  },
  {
   "source": [
    "### Read the Processed Mobility Data"
   ],
   "cell_type": "markdown",
   "metadata": {}
  },
  {
   "cell_type": "code",
   "execution_count": 8,
   "metadata": {},
   "outputs": [],
   "source": [
    "df_mobility = pd.read_csv('social_mobility_Data/combined/features.csv')"
   ]
  },
  {
   "source": [
    "#### process data for analysis"
   ],
   "cell_type": "markdown",
   "metadata": {}
  },
  {
   "cell_type": "code",
   "execution_count": 9,
   "metadata": {},
   "outputs": [],
   "source": [
    "df_mobility.loc[:,'date'] = pd.to_datetime(df_mobility.date)\n",
    "df_mobility.loc[:,'week'] =df_mobility.date.apply(lambda x: x.isocalendar()[1])\n",
    "\n",
    "df_mobility.loc[:,'state'] = df_mobility.state.apply(lambda x: str(x).zfill(2))\n",
    "df_mobility.loc[:,'county'] = df_mobility.county.apply(lambda x: str(x).zfill(3))\n",
    "\n"
   ]
  },
  {
   "cell_type": "code",
   "execution_count": 10,
   "metadata": {},
   "outputs": [],
   "source": [
    "mobility = df_mobility.groupby(['week','state','county']).mean().reset_index()[['week', 'state', 'county', 'median_home_dwell_time',\n",
    "       'median_percentage_time_home', 'median_non_home_dwell_time',\n",
    "       'mean_home_dwell_time', 'mean_non_home_dwell_time',\n",
    "       'completely_home_device_count', 'part_time_work_behavior_devices',\n",
    "       'full_time_work_behavior_devices', 'delivery_behavior_devices']]"
   ]
  },
  {
   "cell_type": "code",
   "execution_count": 11,
   "metadata": {},
   "outputs": [
    {
     "output_type": "execute_result",
     "data": {
      "text/plain": [
       "   week state county  median_home_dwell_time  median_percentage_time_home  \\\n",
       "0    23    01    015              696.200368                    74.552058   \n",
       "1    23    01    033              683.236348                    73.088161   \n",
       "2    23    01    037              611.920985                    70.949040   \n",
       "3    23    01    087              606.422368                    79.060921   \n",
       "4    23    01    103              689.038542                    75.305507   \n",
       "\n",
       "   median_non_home_dwell_time  mean_home_dwell_time  mean_non_home_dwell_time  \\\n",
       "0                  165.942800            674.568985                323.131466   \n",
       "1                  192.713054            661.334168                339.279151   \n",
       "2                  190.211995            627.462955                334.731263   \n",
       "3                  111.440877            631.176031                285.876579   \n",
       "4                  167.521292            670.122255                321.033063   \n",
       "\n",
       "   completely_home_device_count  part_time_work_behavior_devices  \\\n",
       "0                      0.226135                         0.089999   \n",
       "1                      0.203815                         0.093365   \n",
       "2                      0.194054                         0.097009   \n",
       "3                      0.283094                         0.069815   \n",
       "4                      0.222106                         0.092757   \n",
       "\n",
       "   full_time_work_behavior_devices  delivery_behavior_devices  \n",
       "0                         0.039909                   0.043576  \n",
       "1                         0.036476                   0.054458  \n",
       "2                         0.036080                   0.041373  \n",
       "3                         0.037740                   0.053090  \n",
       "4                         0.040817                   0.045789  "
      ],
      "text/html": "<div>\n<style scoped>\n    .dataframe tbody tr th:only-of-type {\n        vertical-align: middle;\n    }\n\n    .dataframe tbody tr th {\n        vertical-align: top;\n    }\n\n    .dataframe thead th {\n        text-align: right;\n    }\n</style>\n<table border=\"1\" class=\"dataframe\">\n  <thead>\n    <tr style=\"text-align: right;\">\n      <th></th>\n      <th>week</th>\n      <th>state</th>\n      <th>county</th>\n      <th>median_home_dwell_time</th>\n      <th>median_percentage_time_home</th>\n      <th>median_non_home_dwell_time</th>\n      <th>mean_home_dwell_time</th>\n      <th>mean_non_home_dwell_time</th>\n      <th>completely_home_device_count</th>\n      <th>part_time_work_behavior_devices</th>\n      <th>full_time_work_behavior_devices</th>\n      <th>delivery_behavior_devices</th>\n    </tr>\n  </thead>\n  <tbody>\n    <tr>\n      <th>0</th>\n      <td>23</td>\n      <td>01</td>\n      <td>015</td>\n      <td>696.200368</td>\n      <td>74.552058</td>\n      <td>165.942800</td>\n      <td>674.568985</td>\n      <td>323.131466</td>\n      <td>0.226135</td>\n      <td>0.089999</td>\n      <td>0.039909</td>\n      <td>0.043576</td>\n    </tr>\n    <tr>\n      <th>1</th>\n      <td>23</td>\n      <td>01</td>\n      <td>033</td>\n      <td>683.236348</td>\n      <td>73.088161</td>\n      <td>192.713054</td>\n      <td>661.334168</td>\n      <td>339.279151</td>\n      <td>0.203815</td>\n      <td>0.093365</td>\n      <td>0.036476</td>\n      <td>0.054458</td>\n    </tr>\n    <tr>\n      <th>2</th>\n      <td>23</td>\n      <td>01</td>\n      <td>037</td>\n      <td>611.920985</td>\n      <td>70.949040</td>\n      <td>190.211995</td>\n      <td>627.462955</td>\n      <td>334.731263</td>\n      <td>0.194054</td>\n      <td>0.097009</td>\n      <td>0.036080</td>\n      <td>0.041373</td>\n    </tr>\n    <tr>\n      <th>3</th>\n      <td>23</td>\n      <td>01</td>\n      <td>087</td>\n      <td>606.422368</td>\n      <td>79.060921</td>\n      <td>111.440877</td>\n      <td>631.176031</td>\n      <td>285.876579</td>\n      <td>0.283094</td>\n      <td>0.069815</td>\n      <td>0.037740</td>\n      <td>0.053090</td>\n    </tr>\n    <tr>\n      <th>4</th>\n      <td>23</td>\n      <td>01</td>\n      <td>103</td>\n      <td>689.038542</td>\n      <td>75.305507</td>\n      <td>167.521292</td>\n      <td>670.122255</td>\n      <td>321.033063</td>\n      <td>0.222106</td>\n      <td>0.092757</td>\n      <td>0.040817</td>\n      <td>0.045789</td>\n    </tr>\n  </tbody>\n</table>\n</div>"
     },
     "metadata": {},
     "execution_count": 11
    }
   ],
   "source": [
    "mobility.head()"
   ]
  },
  {
   "source": [
    "### Read the census data"
   ],
   "cell_type": "markdown",
   "metadata": {}
  },
  {
   "cell_type": "code",
   "execution_count": 12,
   "metadata": {},
   "outputs": [],
   "source": [
    "def get_data(path,column):\n",
    "    low = pd.read_csv(path,index_col=0)\n",
    "\n",
    "    low.loc[:,'census_block_group'] = low.census_block_group.apply(lambda x: str(x).zfill(12))\n",
    "    low.loc[:,'state'] = low.census_block_group.apply(lambda x: str(x)[:2])\n",
    "    low.loc[:,'county'] = low.census_block_group.apply(lambda x: str(x)[2:5])\n",
    "\n",
    "\n",
    "    low = low[['state','county',column]]\n",
    "    low = low.groupby(['state','county'])[column].mean().reset_index()\n",
    "    return low\n",
    "    \n",
    "def get_data2(path,column):\n",
    "    low = pd.read_csv(path,index_col=0)\n",
    "\n",
    "    low.loc[:,'census_block_group'] = low.census_block_group.apply(lambda x: str(x).zfill(12))\n",
    "    low.loc[:,'state'] = low.census_block_group.apply(lambda x: str(x)[:2])\n",
    "    low.loc[:,'county'] = low.census_block_group.apply(lambda x: str(x)[2:5])\n",
    "\n",
    "\n",
    "    low = low[['state','county',column]]\n",
    "    low = low.groupby(['state','county'])[column].sum().reset_index()\n",
    "    return low\n",
    "\n",
    "def merger(data1,data2):\n",
    "    return pd.merge(data1,data2,how='left',on=['state','county'])"
   ]
  },
  {
   "source": [
    "#### merge with the mobility data"
   ],
   "cell_type": "markdown",
   "metadata": {}
  },
  {
   "cell_type": "code",
   "execution_count": 13,
   "metadata": {},
   "outputs": [],
   "source": [
    "df1 = merger(mobility,get_data('census_data/low_inc.csv','low_inc'))\n",
    "df2 = merger(df1,get_data('census_data/white.csv','white'))\n",
    "df3 = merger(df2,get_data('census_data/pop_density.csv','pop_density'))\n",
    "df4 = merger(df3,get_data2('census_data/pop.csv','pop'))"
   ]
  },
  {
   "source": [
    "#### merge with the NYT data"
   ],
   "cell_type": "markdown",
   "metadata": {}
  },
  {
   "cell_type": "code",
   "execution_count": 14,
   "metadata": {},
   "outputs": [
    {
     "output_type": "execute_result",
     "data": {
      "text/plain": [
       "   week state county  median_home_dwell_time  median_percentage_time_home  \\\n",
       "0    23    01    015              696.200368                    74.552058   \n",
       "1    23    01    033              683.236348                    73.088161   \n",
       "2    23    01    037              611.920985                    70.949040   \n",
       "3    23    01    087              606.422368                    79.060921   \n",
       "4    23    01    103              689.038542                    75.305507   \n",
       "\n",
       "   median_non_home_dwell_time  mean_home_dwell_time  mean_non_home_dwell_time  \\\n",
       "0                  165.942800            674.568985                323.131466   \n",
       "1                  192.713054            661.334168                339.279151   \n",
       "2                  190.211995            627.462955                334.731263   \n",
       "3                  111.440877            631.176031                285.876579   \n",
       "4                  167.521292            670.122255                321.033063   \n",
       "\n",
       "   completely_home_device_count  part_time_work_behavior_devices  \\\n",
       "0                      0.226135                         0.089999   \n",
       "1                      0.203815                         0.093365   \n",
       "2                      0.194054                         0.097009   \n",
       "3                      0.283094                         0.069815   \n",
       "4                      0.222106                         0.092757   \n",
       "\n",
       "   full_time_work_behavior_devices  delivery_behavior_devices   low_inc  \\\n",
       "0                         0.039909                   0.043576  0.437855   \n",
       "1                         0.036476                   0.054458  0.432565   \n",
       "2                         0.036080                   0.041373  0.540780   \n",
       "3                         0.037740                   0.053090  0.522533   \n",
       "4                         0.040817                   0.045789  0.414455   \n",
       "\n",
       "      white  pop_density     pop  \n",
       "0  0.739534     0.000285  115883  \n",
       "1  0.779200     0.000378   54377  \n",
       "2  0.661191     0.000015   10864  \n",
       "3  0.152767     0.000129   19684  \n",
       "4  0.791967     0.000518  119555  "
      ],
      "text/html": "<div>\n<style scoped>\n    .dataframe tbody tr th:only-of-type {\n        vertical-align: middle;\n    }\n\n    .dataframe tbody tr th {\n        vertical-align: top;\n    }\n\n    .dataframe thead th {\n        text-align: right;\n    }\n</style>\n<table border=\"1\" class=\"dataframe\">\n  <thead>\n    <tr style=\"text-align: right;\">\n      <th></th>\n      <th>week</th>\n      <th>state</th>\n      <th>county</th>\n      <th>median_home_dwell_time</th>\n      <th>median_percentage_time_home</th>\n      <th>median_non_home_dwell_time</th>\n      <th>mean_home_dwell_time</th>\n      <th>mean_non_home_dwell_time</th>\n      <th>completely_home_device_count</th>\n      <th>part_time_work_behavior_devices</th>\n      <th>full_time_work_behavior_devices</th>\n      <th>delivery_behavior_devices</th>\n      <th>low_inc</th>\n      <th>white</th>\n      <th>pop_density</th>\n      <th>pop</th>\n    </tr>\n  </thead>\n  <tbody>\n    <tr>\n      <th>0</th>\n      <td>23</td>\n      <td>01</td>\n      <td>015</td>\n      <td>696.200368</td>\n      <td>74.552058</td>\n      <td>165.942800</td>\n      <td>674.568985</td>\n      <td>323.131466</td>\n      <td>0.226135</td>\n      <td>0.089999</td>\n      <td>0.039909</td>\n      <td>0.043576</td>\n      <td>0.437855</td>\n      <td>0.739534</td>\n      <td>0.000285</td>\n      <td>115883</td>\n    </tr>\n    <tr>\n      <th>1</th>\n      <td>23</td>\n      <td>01</td>\n      <td>033</td>\n      <td>683.236348</td>\n      <td>73.088161</td>\n      <td>192.713054</td>\n      <td>661.334168</td>\n      <td>339.279151</td>\n      <td>0.203815</td>\n      <td>0.093365</td>\n      <td>0.036476</td>\n      <td>0.054458</td>\n      <td>0.432565</td>\n      <td>0.779200</td>\n      <td>0.000378</td>\n      <td>54377</td>\n    </tr>\n    <tr>\n      <th>2</th>\n      <td>23</td>\n      <td>01</td>\n      <td>037</td>\n      <td>611.920985</td>\n      <td>70.949040</td>\n      <td>190.211995</td>\n      <td>627.462955</td>\n      <td>334.731263</td>\n      <td>0.194054</td>\n      <td>0.097009</td>\n      <td>0.036080</td>\n      <td>0.041373</td>\n      <td>0.540780</td>\n      <td>0.661191</td>\n      <td>0.000015</td>\n      <td>10864</td>\n    </tr>\n    <tr>\n      <th>3</th>\n      <td>23</td>\n      <td>01</td>\n      <td>087</td>\n      <td>606.422368</td>\n      <td>79.060921</td>\n      <td>111.440877</td>\n      <td>631.176031</td>\n      <td>285.876579</td>\n      <td>0.283094</td>\n      <td>0.069815</td>\n      <td>0.037740</td>\n      <td>0.053090</td>\n      <td>0.522533</td>\n      <td>0.152767</td>\n      <td>0.000129</td>\n      <td>19684</td>\n    </tr>\n    <tr>\n      <th>4</th>\n      <td>23</td>\n      <td>01</td>\n      <td>103</td>\n      <td>689.038542</td>\n      <td>75.305507</td>\n      <td>167.521292</td>\n      <td>670.122255</td>\n      <td>321.033063</td>\n      <td>0.222106</td>\n      <td>0.092757</td>\n      <td>0.040817</td>\n      <td>0.045789</td>\n      <td>0.414455</td>\n      <td>0.791967</td>\n      <td>0.000518</td>\n      <td>119555</td>\n    </tr>\n  </tbody>\n</table>\n</div>"
     },
     "metadata": {},
     "execution_count": 14
    }
   ],
   "source": [
    "df4.head()"
   ]
  },
  {
   "cell_type": "code",
   "execution_count": 15,
   "metadata": {},
   "outputs": [],
   "source": [
    "labels = labels[['week','state','county','cases']]\n",
    "labels.loc[:,'state'] = labels.state.apply(lambda x: str(x).zfill(2))\n",
    "labels.loc[:,'county'] = labels.county.apply(lambda x: str(x).zfill(3))"
   ]
  },
  {
   "cell_type": "code",
   "execution_count": 16,
   "metadata": {},
   "outputs": [
    {
     "output_type": "execute_result",
     "data": {
      "text/plain": [
       "   week state county       cases\n",
       "0    24    00    00n -320.679572\n",
       "1    25    00    00n   39.436599\n",
       "2    26    00    00n -129.101845\n",
       "3    27    00    00n  241.510761\n",
       "4    28    00    00n  123.478906"
      ],
      "text/html": "<div>\n<style scoped>\n    .dataframe tbody tr th:only-of-type {\n        vertical-align: middle;\n    }\n\n    .dataframe tbody tr th {\n        vertical-align: top;\n    }\n\n    .dataframe thead th {\n        text-align: right;\n    }\n</style>\n<table border=\"1\" class=\"dataframe\">\n  <thead>\n    <tr style=\"text-align: right;\">\n      <th></th>\n      <th>week</th>\n      <th>state</th>\n      <th>county</th>\n      <th>cases</th>\n    </tr>\n  </thead>\n  <tbody>\n    <tr>\n      <th>0</th>\n      <td>24</td>\n      <td>00</td>\n      <td>00n</td>\n      <td>-320.679572</td>\n    </tr>\n    <tr>\n      <th>1</th>\n      <td>25</td>\n      <td>00</td>\n      <td>00n</td>\n      <td>39.436599</td>\n    </tr>\n    <tr>\n      <th>2</th>\n      <td>26</td>\n      <td>00</td>\n      <td>00n</td>\n      <td>-129.101845</td>\n    </tr>\n    <tr>\n      <th>3</th>\n      <td>27</td>\n      <td>00</td>\n      <td>00n</td>\n      <td>241.510761</td>\n    </tr>\n    <tr>\n      <th>4</th>\n      <td>28</td>\n      <td>00</td>\n      <td>00n</td>\n      <td>123.478906</td>\n    </tr>\n  </tbody>\n</table>\n</div>"
     },
     "metadata": {},
     "execution_count": 16
    }
   ],
   "source": [
    "labels.head()"
   ]
  },
  {
   "cell_type": "code",
   "execution_count": 17,
   "metadata": {},
   "outputs": [],
   "source": [
    "matrix = pd.merge(df4,labels,how='left',on=['week','state','county'])\n",
    "matrix.cases.fillna(0,inplace=True)"
   ]
  },
  {
   "cell_type": "code",
   "execution_count": 38,
   "metadata": {},
   "outputs": [
    {
     "output_type": "execute_result",
     "data": {
      "text/plain": [
       "      week state county  median_home_dwell_time  median_percentage_time_home  \\\n",
       "0       23    01    015              696.200368                    74.552058   \n",
       "324     24    01    015              692.449821                    74.869153   \n",
       "648     25    01    015              715.306842                    75.963155   \n",
       "972     26    01    015              729.716672                    76.098765   \n",
       "1296    27    01    015              705.665130                    76.616434   \n",
       "\n",
       "      median_non_home_dwell_time  mean_home_dwell_time  \\\n",
       "0                     165.942800            674.568985   \n",
       "324                   167.732934            673.959665   \n",
       "648                   186.968884            687.154278   \n",
       "972                   182.090292            699.797506   \n",
       "1296                  174.289989            683.902553   \n",
       "\n",
       "      mean_non_home_dwell_time  completely_home_device_count  \\\n",
       "0                   323.131466                      0.226135   \n",
       "324                 314.478093                      0.233734   \n",
       "648                 327.722535                      0.234762   \n",
       "972                 326.955218                      0.235278   \n",
       "1296                332.021528                      0.243765   \n",
       "\n",
       "      part_time_work_behavior_devices  full_time_work_behavior_devices  \\\n",
       "0                            0.089999                         0.039909   \n",
       "324                          0.093172                         0.042873   \n",
       "648                          0.099637                         0.046523   \n",
       "972                          0.098060                         0.048702   \n",
       "1296                         0.096922                         0.044363   \n",
       "\n",
       "      delivery_behavior_devices   low_inc     white  pop_density     pop  \\\n",
       "0                      0.043576  0.437855  0.739534     0.000285  115883   \n",
       "324                    0.045135  0.437855  0.739534     0.000285  115883   \n",
       "648                    0.049140  0.437855  0.739534     0.000285  115883   \n",
       "972                    0.047329  0.437855  0.739534     0.000285  115883   \n",
       "1296                   0.054539  0.437855  0.739534     0.000285  115883   \n",
       "\n",
       "          cases     shifted  \n",
       "0      0.000000   16.714286  \n",
       "324   16.714286   15.571429  \n",
       "648   15.571429   21.142857  \n",
       "972   21.142857   76.142857  \n",
       "1296  76.142857  140.428571  "
      ],
      "text/html": "<div>\n<style scoped>\n    .dataframe tbody tr th:only-of-type {\n        vertical-align: middle;\n    }\n\n    .dataframe tbody tr th {\n        vertical-align: top;\n    }\n\n    .dataframe thead th {\n        text-align: right;\n    }\n</style>\n<table border=\"1\" class=\"dataframe\">\n  <thead>\n    <tr style=\"text-align: right;\">\n      <th></th>\n      <th>week</th>\n      <th>state</th>\n      <th>county</th>\n      <th>median_home_dwell_time</th>\n      <th>median_percentage_time_home</th>\n      <th>median_non_home_dwell_time</th>\n      <th>mean_home_dwell_time</th>\n      <th>mean_non_home_dwell_time</th>\n      <th>completely_home_device_count</th>\n      <th>part_time_work_behavior_devices</th>\n      <th>full_time_work_behavior_devices</th>\n      <th>delivery_behavior_devices</th>\n      <th>low_inc</th>\n      <th>white</th>\n      <th>pop_density</th>\n      <th>pop</th>\n      <th>cases</th>\n      <th>shifted</th>\n    </tr>\n  </thead>\n  <tbody>\n    <tr>\n      <th>0</th>\n      <td>23</td>\n      <td>01</td>\n      <td>015</td>\n      <td>696.200368</td>\n      <td>74.552058</td>\n      <td>165.942800</td>\n      <td>674.568985</td>\n      <td>323.131466</td>\n      <td>0.226135</td>\n      <td>0.089999</td>\n      <td>0.039909</td>\n      <td>0.043576</td>\n      <td>0.437855</td>\n      <td>0.739534</td>\n      <td>0.000285</td>\n      <td>115883</td>\n      <td>0.000000</td>\n      <td>16.714286</td>\n    </tr>\n    <tr>\n      <th>324</th>\n      <td>24</td>\n      <td>01</td>\n      <td>015</td>\n      <td>692.449821</td>\n      <td>74.869153</td>\n      <td>167.732934</td>\n      <td>673.959665</td>\n      <td>314.478093</td>\n      <td>0.233734</td>\n      <td>0.093172</td>\n      <td>0.042873</td>\n      <td>0.045135</td>\n      <td>0.437855</td>\n      <td>0.739534</td>\n      <td>0.000285</td>\n      <td>115883</td>\n      <td>16.714286</td>\n      <td>15.571429</td>\n    </tr>\n    <tr>\n      <th>648</th>\n      <td>25</td>\n      <td>01</td>\n      <td>015</td>\n      <td>715.306842</td>\n      <td>75.963155</td>\n      <td>186.968884</td>\n      <td>687.154278</td>\n      <td>327.722535</td>\n      <td>0.234762</td>\n      <td>0.099637</td>\n      <td>0.046523</td>\n      <td>0.049140</td>\n      <td>0.437855</td>\n      <td>0.739534</td>\n      <td>0.000285</td>\n      <td>115883</td>\n      <td>15.571429</td>\n      <td>21.142857</td>\n    </tr>\n    <tr>\n      <th>972</th>\n      <td>26</td>\n      <td>01</td>\n      <td>015</td>\n      <td>729.716672</td>\n      <td>76.098765</td>\n      <td>182.090292</td>\n      <td>699.797506</td>\n      <td>326.955218</td>\n      <td>0.235278</td>\n      <td>0.098060</td>\n      <td>0.048702</td>\n      <td>0.047329</td>\n      <td>0.437855</td>\n      <td>0.739534</td>\n      <td>0.000285</td>\n      <td>115883</td>\n      <td>21.142857</td>\n      <td>76.142857</td>\n    </tr>\n    <tr>\n      <th>1296</th>\n      <td>27</td>\n      <td>01</td>\n      <td>015</td>\n      <td>705.665130</td>\n      <td>76.616434</td>\n      <td>174.289989</td>\n      <td>683.902553</td>\n      <td>332.021528</td>\n      <td>0.243765</td>\n      <td>0.096922</td>\n      <td>0.044363</td>\n      <td>0.054539</td>\n      <td>0.437855</td>\n      <td>0.739534</td>\n      <td>0.000285</td>\n      <td>115883</td>\n      <td>76.142857</td>\n      <td>140.428571</td>\n    </tr>\n  </tbody>\n</table>\n</div>"
     },
     "metadata": {},
     "execution_count": 38
    }
   ],
   "source": [
    "matrix.head()"
   ]
  },
  {
   "source": [
    "#### shitft the cases by one time step back so we can predict next weeks"
   ],
   "cell_type": "markdown",
   "metadata": {}
  },
  {
   "cell_type": "code",
   "execution_count": 19,
   "metadata": {},
   "outputs": [],
   "source": [
    "#scale by the population\n",
    "#matrix.cases = matrix.cases / matrix['pop']"
   ]
  },
  {
   "cell_type": "code",
   "execution_count": 20,
   "metadata": {},
   "outputs": [],
   "source": [
    "collection = []\n",
    "for state in matrix.state.unique():\n",
    "    sub1 = matrix.loc[matrix.state == state]\n",
    "    for county in sub1.county.unique():\n",
    "        sub2 = sub1.loc[sub1.county==county]\n",
    "        sub2['shifted'] = sub2.cases.shift(periods=-1)\n",
    "        collection.append(sub2)\n"
   ]
  },
  {
   "cell_type": "code",
   "execution_count": 21,
   "metadata": {},
   "outputs": [],
   "source": [
    "matrix = pd.concat(collection)"
   ]
  },
  {
   "cell_type": "code",
   "execution_count": 22,
   "metadata": {},
   "outputs": [
    {
     "output_type": "execute_result",
     "data": {
      "text/plain": [
       "      week state county  median_home_dwell_time  median_percentage_time_home  \\\n",
       "0       23    01    015              696.200368                    74.552058   \n",
       "324     24    01    015              692.449821                    74.869153   \n",
       "648     25    01    015              715.306842                    75.963155   \n",
       "972     26    01    015              729.716672                    76.098765   \n",
       "1296    27    01    015              705.665130                    76.616434   \n",
       "\n",
       "      median_non_home_dwell_time  mean_home_dwell_time  \\\n",
       "0                     165.942800            674.568985   \n",
       "324                   167.732934            673.959665   \n",
       "648                   186.968884            687.154278   \n",
       "972                   182.090292            699.797506   \n",
       "1296                  174.289989            683.902553   \n",
       "\n",
       "      mean_non_home_dwell_time  completely_home_device_count  \\\n",
       "0                   323.131466                      0.226135   \n",
       "324                 314.478093                      0.233734   \n",
       "648                 327.722535                      0.234762   \n",
       "972                 326.955218                      0.235278   \n",
       "1296                332.021528                      0.243765   \n",
       "\n",
       "      part_time_work_behavior_devices  full_time_work_behavior_devices  \\\n",
       "0                            0.089999                         0.039909   \n",
       "324                          0.093172                         0.042873   \n",
       "648                          0.099637                         0.046523   \n",
       "972                          0.098060                         0.048702   \n",
       "1296                         0.096922                         0.044363   \n",
       "\n",
       "      delivery_behavior_devices   low_inc     white  pop_density     pop  \\\n",
       "0                      0.043576  0.437855  0.739534     0.000285  115883   \n",
       "324                    0.045135  0.437855  0.739534     0.000285  115883   \n",
       "648                    0.049140  0.437855  0.739534     0.000285  115883   \n",
       "972                    0.047329  0.437855  0.739534     0.000285  115883   \n",
       "1296                   0.054539  0.437855  0.739534     0.000285  115883   \n",
       "\n",
       "          cases     shifted  \n",
       "0      0.000000   16.714286  \n",
       "324   16.714286   15.571429  \n",
       "648   15.571429   21.142857  \n",
       "972   21.142857   76.142857  \n",
       "1296  76.142857  140.428571  "
      ],
      "text/html": "<div>\n<style scoped>\n    .dataframe tbody tr th:only-of-type {\n        vertical-align: middle;\n    }\n\n    .dataframe tbody tr th {\n        vertical-align: top;\n    }\n\n    .dataframe thead th {\n        text-align: right;\n    }\n</style>\n<table border=\"1\" class=\"dataframe\">\n  <thead>\n    <tr style=\"text-align: right;\">\n      <th></th>\n      <th>week</th>\n      <th>state</th>\n      <th>county</th>\n      <th>median_home_dwell_time</th>\n      <th>median_percentage_time_home</th>\n      <th>median_non_home_dwell_time</th>\n      <th>mean_home_dwell_time</th>\n      <th>mean_non_home_dwell_time</th>\n      <th>completely_home_device_count</th>\n      <th>part_time_work_behavior_devices</th>\n      <th>full_time_work_behavior_devices</th>\n      <th>delivery_behavior_devices</th>\n      <th>low_inc</th>\n      <th>white</th>\n      <th>pop_density</th>\n      <th>pop</th>\n      <th>cases</th>\n      <th>shifted</th>\n    </tr>\n  </thead>\n  <tbody>\n    <tr>\n      <th>0</th>\n      <td>23</td>\n      <td>01</td>\n      <td>015</td>\n      <td>696.200368</td>\n      <td>74.552058</td>\n      <td>165.942800</td>\n      <td>674.568985</td>\n      <td>323.131466</td>\n      <td>0.226135</td>\n      <td>0.089999</td>\n      <td>0.039909</td>\n      <td>0.043576</td>\n      <td>0.437855</td>\n      <td>0.739534</td>\n      <td>0.000285</td>\n      <td>115883</td>\n      <td>0.000000</td>\n      <td>16.714286</td>\n    </tr>\n    <tr>\n      <th>324</th>\n      <td>24</td>\n      <td>01</td>\n      <td>015</td>\n      <td>692.449821</td>\n      <td>74.869153</td>\n      <td>167.732934</td>\n      <td>673.959665</td>\n      <td>314.478093</td>\n      <td>0.233734</td>\n      <td>0.093172</td>\n      <td>0.042873</td>\n      <td>0.045135</td>\n      <td>0.437855</td>\n      <td>0.739534</td>\n      <td>0.000285</td>\n      <td>115883</td>\n      <td>16.714286</td>\n      <td>15.571429</td>\n    </tr>\n    <tr>\n      <th>648</th>\n      <td>25</td>\n      <td>01</td>\n      <td>015</td>\n      <td>715.306842</td>\n      <td>75.963155</td>\n      <td>186.968884</td>\n      <td>687.154278</td>\n      <td>327.722535</td>\n      <td>0.234762</td>\n      <td>0.099637</td>\n      <td>0.046523</td>\n      <td>0.049140</td>\n      <td>0.437855</td>\n      <td>0.739534</td>\n      <td>0.000285</td>\n      <td>115883</td>\n      <td>15.571429</td>\n      <td>21.142857</td>\n    </tr>\n    <tr>\n      <th>972</th>\n      <td>26</td>\n      <td>01</td>\n      <td>015</td>\n      <td>729.716672</td>\n      <td>76.098765</td>\n      <td>182.090292</td>\n      <td>699.797506</td>\n      <td>326.955218</td>\n      <td>0.235278</td>\n      <td>0.098060</td>\n      <td>0.048702</td>\n      <td>0.047329</td>\n      <td>0.437855</td>\n      <td>0.739534</td>\n      <td>0.000285</td>\n      <td>115883</td>\n      <td>21.142857</td>\n      <td>76.142857</td>\n    </tr>\n    <tr>\n      <th>1296</th>\n      <td>27</td>\n      <td>01</td>\n      <td>015</td>\n      <td>705.665130</td>\n      <td>76.616434</td>\n      <td>174.289989</td>\n      <td>683.902553</td>\n      <td>332.021528</td>\n      <td>0.243765</td>\n      <td>0.096922</td>\n      <td>0.044363</td>\n      <td>0.054539</td>\n      <td>0.437855</td>\n      <td>0.739534</td>\n      <td>0.000285</td>\n      <td>115883</td>\n      <td>76.142857</td>\n      <td>140.428571</td>\n    </tr>\n  </tbody>\n</table>\n</div>"
     },
     "metadata": {},
     "execution_count": 22
    }
   ],
   "source": [
    "matrix.head()"
   ]
  },
  {
   "source": [
    "### Linear Regression Baseline"
   ],
   "cell_type": "markdown",
   "metadata": {}
  },
  {
   "cell_type": "code",
   "execution_count": 23,
   "metadata": {},
   "outputs": [],
   "source": [
    "matrix.dropna(inplace=True)"
   ]
  },
  {
   "cell_type": "code",
   "execution_count": 24,
   "metadata": {},
   "outputs": [],
   "source": [
    "features = ['median_home_dwell_time',\n",
    "       'median_percentage_time_home', 'median_non_home_dwell_time',\n",
    "       'mean_home_dwell_time', 'mean_non_home_dwell_time',\n",
    "       'completely_home_device_count', 'part_time_work_behavior_devices',\n",
    "       'full_time_work_behavior_devices', 'delivery_behavior_devices', 'low_inc',\n",
    "       'white', 'pop_density','pop','cases']\n",
    "value = ['shifted']"
   ]
  },
  {
   "cell_type": "code",
   "execution_count": 25,
   "metadata": {},
   "outputs": [],
   "source": [
    "x_train,x_test,y_train,y_test = train_test_split(matrix[features], matrix[value], test_size=0.2, random_state=42)"
   ]
  },
  {
   "cell_type": "code",
   "execution_count": 26,
   "metadata": {},
   "outputs": [],
   "source": [
    "population = matrix.loc[x_test.index,'pop'].values"
   ]
  },
  {
   "cell_type": "code",
   "execution_count": 27,
   "metadata": {},
   "outputs": [],
   "source": [
    "regr = linear_model.LinearRegression()\n",
    "regr.fit(x_train, y_train)\n",
    "\n",
    "y_pred = regr.predict(x_test)\n"
   ]
  },
  {
   "cell_type": "code",
   "execution_count": 28,
   "metadata": {},
   "outputs": [],
   "source": [
    "import sklearn.metrics as metrics\n",
    "def regression_results(y_true, y_pred):\n",
    "    \n",
    "    # Regression metrics\n",
    "    explained_variance=metrics.explained_variance_score(y_true, y_pred)\n",
    "    mean_absolute_error=metrics.mean_absolute_error(y_true, y_pred) \n",
    "    mse=metrics.mean_squared_error(y_true, y_pred) \n",
    "    median_absolute_error=metrics.median_absolute_error(y_true, y_pred)\n",
    "    r2=metrics.r2_score(y_true, y_pred)\n",
    "    \n",
    "\n",
    "    print('explained_variance: ', round(explained_variance,4))    \n",
    "    print('r2: ', round(r2,4))\n",
    "    print('MAE: ', round(mean_absolute_error,4))\n",
    "    print('MSE: ', round(mse,4))\n",
    "    print('RMSE: ', round(np.sqrt(mse),4))\n"
   ]
  },
  {
   "cell_type": "code",
   "execution_count": 29,
   "metadata": {},
   "outputs": [
    {
     "output_type": "stream",
     "name": "stdout",
     "text": [
      "explained_variance:  0.8865\nr2:  0.8865\nMAE:  23.4639\nMSE:  3319.5903\nRMSE:  57.6159\n"
     ]
    }
   ],
   "source": [
    "regression_results(y_test,y_pred)"
   ]
  },
  {
   "source": [
    "### Random Forrest Regressor"
   ],
   "cell_type": "markdown",
   "metadata": {}
  },
  {
   "cell_type": "code",
   "execution_count": 30,
   "metadata": {},
   "outputs": [
    {
     "output_type": "execute_result",
     "data": {
      "text/plain": [
       "      week state county  median_home_dwell_time  median_percentage_time_home  \\\n",
       "0       23    01    015              696.200368                    74.552058   \n",
       "324     24    01    015              692.449821                    74.869153   \n",
       "648     25    01    015              715.306842                    75.963155   \n",
       "972     26    01    015              729.716672                    76.098765   \n",
       "1296    27    01    015              705.665130                    76.616434   \n",
       "\n",
       "      median_non_home_dwell_time  mean_home_dwell_time  \\\n",
       "0                     165.942800            674.568985   \n",
       "324                   167.732934            673.959665   \n",
       "648                   186.968884            687.154278   \n",
       "972                   182.090292            699.797506   \n",
       "1296                  174.289989            683.902553   \n",
       "\n",
       "      mean_non_home_dwell_time  completely_home_device_count  \\\n",
       "0                   323.131466                      0.226135   \n",
       "324                 314.478093                      0.233734   \n",
       "648                 327.722535                      0.234762   \n",
       "972                 326.955218                      0.235278   \n",
       "1296                332.021528                      0.243765   \n",
       "\n",
       "      part_time_work_behavior_devices  full_time_work_behavior_devices  \\\n",
       "0                            0.089999                         0.039909   \n",
       "324                          0.093172                         0.042873   \n",
       "648                          0.099637                         0.046523   \n",
       "972                          0.098060                         0.048702   \n",
       "1296                         0.096922                         0.044363   \n",
       "\n",
       "      delivery_behavior_devices   low_inc     white  pop_density     pop  \\\n",
       "0                      0.043576  0.437855  0.739534     0.000285  115883   \n",
       "324                    0.045135  0.437855  0.739534     0.000285  115883   \n",
       "648                    0.049140  0.437855  0.739534     0.000285  115883   \n",
       "972                    0.047329  0.437855  0.739534     0.000285  115883   \n",
       "1296                   0.054539  0.437855  0.739534     0.000285  115883   \n",
       "\n",
       "          cases     shifted  \n",
       "0      0.000000   16.714286  \n",
       "324   16.714286   15.571429  \n",
       "648   15.571429   21.142857  \n",
       "972   21.142857   76.142857  \n",
       "1296  76.142857  140.428571  "
      ],
      "text/html": "<div>\n<style scoped>\n    .dataframe tbody tr th:only-of-type {\n        vertical-align: middle;\n    }\n\n    .dataframe tbody tr th {\n        vertical-align: top;\n    }\n\n    .dataframe thead th {\n        text-align: right;\n    }\n</style>\n<table border=\"1\" class=\"dataframe\">\n  <thead>\n    <tr style=\"text-align: right;\">\n      <th></th>\n      <th>week</th>\n      <th>state</th>\n      <th>county</th>\n      <th>median_home_dwell_time</th>\n      <th>median_percentage_time_home</th>\n      <th>median_non_home_dwell_time</th>\n      <th>mean_home_dwell_time</th>\n      <th>mean_non_home_dwell_time</th>\n      <th>completely_home_device_count</th>\n      <th>part_time_work_behavior_devices</th>\n      <th>full_time_work_behavior_devices</th>\n      <th>delivery_behavior_devices</th>\n      <th>low_inc</th>\n      <th>white</th>\n      <th>pop_density</th>\n      <th>pop</th>\n      <th>cases</th>\n      <th>shifted</th>\n    </tr>\n  </thead>\n  <tbody>\n    <tr>\n      <th>0</th>\n      <td>23</td>\n      <td>01</td>\n      <td>015</td>\n      <td>696.200368</td>\n      <td>74.552058</td>\n      <td>165.942800</td>\n      <td>674.568985</td>\n      <td>323.131466</td>\n      <td>0.226135</td>\n      <td>0.089999</td>\n      <td>0.039909</td>\n      <td>0.043576</td>\n      <td>0.437855</td>\n      <td>0.739534</td>\n      <td>0.000285</td>\n      <td>115883</td>\n      <td>0.000000</td>\n      <td>16.714286</td>\n    </tr>\n    <tr>\n      <th>324</th>\n      <td>24</td>\n      <td>01</td>\n      <td>015</td>\n      <td>692.449821</td>\n      <td>74.869153</td>\n      <td>167.732934</td>\n      <td>673.959665</td>\n      <td>314.478093</td>\n      <td>0.233734</td>\n      <td>0.093172</td>\n      <td>0.042873</td>\n      <td>0.045135</td>\n      <td>0.437855</td>\n      <td>0.739534</td>\n      <td>0.000285</td>\n      <td>115883</td>\n      <td>16.714286</td>\n      <td>15.571429</td>\n    </tr>\n    <tr>\n      <th>648</th>\n      <td>25</td>\n      <td>01</td>\n      <td>015</td>\n      <td>715.306842</td>\n      <td>75.963155</td>\n      <td>186.968884</td>\n      <td>687.154278</td>\n      <td>327.722535</td>\n      <td>0.234762</td>\n      <td>0.099637</td>\n      <td>0.046523</td>\n      <td>0.049140</td>\n      <td>0.437855</td>\n      <td>0.739534</td>\n      <td>0.000285</td>\n      <td>115883</td>\n      <td>15.571429</td>\n      <td>21.142857</td>\n    </tr>\n    <tr>\n      <th>972</th>\n      <td>26</td>\n      <td>01</td>\n      <td>015</td>\n      <td>729.716672</td>\n      <td>76.098765</td>\n      <td>182.090292</td>\n      <td>699.797506</td>\n      <td>326.955218</td>\n      <td>0.235278</td>\n      <td>0.098060</td>\n      <td>0.048702</td>\n      <td>0.047329</td>\n      <td>0.437855</td>\n      <td>0.739534</td>\n      <td>0.000285</td>\n      <td>115883</td>\n      <td>21.142857</td>\n      <td>76.142857</td>\n    </tr>\n    <tr>\n      <th>1296</th>\n      <td>27</td>\n      <td>01</td>\n      <td>015</td>\n      <td>705.665130</td>\n      <td>76.616434</td>\n      <td>174.289989</td>\n      <td>683.902553</td>\n      <td>332.021528</td>\n      <td>0.243765</td>\n      <td>0.096922</td>\n      <td>0.044363</td>\n      <td>0.054539</td>\n      <td>0.437855</td>\n      <td>0.739534</td>\n      <td>0.000285</td>\n      <td>115883</td>\n      <td>76.142857</td>\n      <td>140.428571</td>\n    </tr>\n  </tbody>\n</table>\n</div>"
     },
     "metadata": {},
     "execution_count": 30
    }
   ],
   "source": [
    "matrix.head()"
   ]
  },
  {
   "cell_type": "code",
   "execution_count": 31,
   "metadata": {},
   "outputs": [],
   "source": [
    "from sklearn.ensemble import RandomForestRegressor\n",
    "\n",
    "regr = RandomForestRegressor(n_estimators=500,max_depth=10,bootstrap=True,max_features='sqrt', random_state=0)\n",
    "regr.fit(x_train, y_train)\n",
    "y_pred = regr.predict(x_test).reshape(len(x_test))"
   ]
  },
  {
   "cell_type": "code",
   "execution_count": 32,
   "metadata": {},
   "outputs": [
    {
     "output_type": "stream",
     "name": "stdout",
     "text": [
      "cases\npop\npop_density\nwhite\nmean_home_dwell_time\nmedian_percentage_time_home\nfull_time_work_behavior_devices\nmedian_home_dwell_time\nlow_inc\nmedian_non_home_dwell_time\nmean_non_home_dwell_time\npart_time_work_behavior_devices\ncompletely_home_device_count\ndelivery_behavior_devices\n"
     ]
    }
   ],
   "source": [
    "# feature importances\n",
    "for i in np.argsort(regr.feature_importances_)[::-1]:\n",
    "    print(features[i])"
   ]
  },
  {
   "cell_type": "code",
   "execution_count": 33,
   "metadata": {},
   "outputs": [
    {
     "output_type": "stream",
     "name": "stdout",
     "text": [
      "explained_variance:  0.8922\nr2:  0.8922\nMAE:  24.5397\nMSE:  3150.2134\nRMSE:  56.1268\n"
     ]
    }
   ],
   "source": [
    "regression_results(y_test,y_pred)"
   ]
  },
  {
   "cell_type": "code",
   "execution_count": 34,
   "metadata": {},
   "outputs": [],
   "source": [
    "y_pred =y_pred.reshape(843,1)"
   ]
  },
  {
   "cell_type": "code",
   "execution_count": 35,
   "metadata": {},
   "outputs": [
    {
     "output_type": "execute_result",
     "data": {
      "text/plain": [
       "1870949339.014321"
      ]
     },
     "metadata": {},
     "execution_count": 35
    }
   ],
   "source": [
    "np.mean(np.square(y_pred-y_test).values.reshape(len(y_pred))* population)\n"
   ]
  },
  {
   "cell_type": "code",
   "execution_count": 36,
   "metadata": {},
   "outputs": [
    {
     "output_type": "execute_result",
     "data": {
      "text/plain": [
       "40156796.54737207"
      ]
     },
     "metadata": {},
     "execution_count": 36
    }
   ],
   "source": [
    "np.std((y_pred-y_test).values.reshape(len(y_pred))* population)"
   ]
  },
  {
   "cell_type": "code",
   "execution_count": null,
   "metadata": {},
   "outputs": [],
   "source": []
  }
 ]
}